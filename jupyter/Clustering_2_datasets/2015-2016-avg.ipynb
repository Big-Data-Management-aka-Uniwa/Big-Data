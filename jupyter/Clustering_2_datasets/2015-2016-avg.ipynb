{
 "cells": [
  {
   "cell_type": "code",
   "execution_count": 4,
   "metadata": {},
   "outputs": [],
   "source": [
    "# Libraries\n",
    "import pandas as pd\n",
    "from sklearn.cluster import KMeans\n",
    "from sklearn import metrics\n",
    "import matplotlib.pyplot as plt\n",
    "import numpy as np\n",
    "from scipy.stats import zscore"
   ]
  },
  {
   "cell_type": "code",
   "execution_count": 5,
   "metadata": {},
   "outputs": [
    {
     "data": {
      "text/html": [
       "<div>\n",
       "<style scoped>\n",
       "    .dataframe tbody tr th:only-of-type {\n",
       "        vertical-align: middle;\n",
       "    }\n",
       "\n",
       "    .dataframe tbody tr th {\n",
       "        vertical-align: top;\n",
       "    }\n",
       "\n",
       "    .dataframe thead th {\n",
       "        text-align: right;\n",
       "    }\n",
       "</style>\n",
       "<table border=\"1\" class=\"dataframe\">\n",
       "  <thead>\n",
       "    <tr style=\"text-align: right;\">\n",
       "      <th></th>\n",
       "      <th>state</th>\n",
       "      <th>Avg Deaths</th>\n",
       "      <th>Avg Deaths in percentage</th>\n",
       "    </tr>\n",
       "  </thead>\n",
       "  <tbody>\n",
       "    <tr>\n",
       "      <th>0</th>\n",
       "      <td>AK</td>\n",
       "      <td>5.5</td>\n",
       "      <td>0.565264</td>\n",
       "    </tr>\n",
       "    <tr>\n",
       "      <th>1</th>\n",
       "      <td>AL</td>\n",
       "      <td>21.0</td>\n",
       "      <td>2.155746</td>\n",
       "    </tr>\n",
       "    <tr>\n",
       "      <th>2</th>\n",
       "      <td>AR</td>\n",
       "      <td>10.0</td>\n",
       "      <td>1.031087</td>\n",
       "    </tr>\n",
       "    <tr>\n",
       "      <th>3</th>\n",
       "      <td>AZ</td>\n",
       "      <td>46.0</td>\n",
       "      <td>4.715126</td>\n",
       "    </tr>\n",
       "    <tr>\n",
       "      <th>4</th>\n",
       "      <td>CA</td>\n",
       "      <td>163.5</td>\n",
       "      <td>16.700931</td>\n",
       "    </tr>\n",
       "  </tbody>\n",
       "</table>\n",
       "</div>"
      ],
      "text/plain": [
       "  state  Avg Deaths  Avg Deaths in percentage\n",
       "0    AK         5.5                  0.565264\n",
       "1    AL        21.0                  2.155746\n",
       "2    AR        10.0                  1.031087\n",
       "3    AZ        46.0                  4.715126\n",
       "4    CA       163.5                 16.700931"
      ]
     },
     "execution_count": 5,
     "metadata": {},
     "output_type": "execute_result"
    }
   ],
   "source": [
    " # [Step 1] Load the processed datasets\n",
    "PoliceKillingUS = pd.read_csv('../../datasets/PolliceKillingUS_Avg_2015_2016.csv', encoding='utf-8') #ποσοστά συνδιασμός ετών 2015-2016\n",
    "PoliceKillingUS.head()"
   ]
  },
  {
   "cell_type": "code",
   "execution_count": 6,
   "metadata": {},
   "outputs": [
    {
     "data": {
      "text/html": [
       "<div>\n",
       "<style scoped>\n",
       "    .dataframe tbody tr th:only-of-type {\n",
       "        vertical-align: middle;\n",
       "    }\n",
       "\n",
       "    .dataframe tbody tr th {\n",
       "        vertical-align: top;\n",
       "    }\n",
       "\n",
       "    .dataframe thead th {\n",
       "        text-align: right;\n",
       "    }\n",
       "</style>\n",
       "<table border=\"1\" class=\"dataframe\">\n",
       "  <thead>\n",
       "    <tr style=\"text-align: right;\">\n",
       "      <th></th>\n",
       "      <th>ID</th>\n",
       "      <th>Name</th>\n",
       "      <th>Poverty Universe Avg</th>\n",
       "      <th>Number in Poverty Avg</th>\n",
       "      <th>Percent in Poverty Avg</th>\n",
       "    </tr>\n",
       "  </thead>\n",
       "  <tbody>\n",
       "    <tr>\n",
       "      <th>0</th>\n",
       "      <td>1000</td>\n",
       "      <td>AL</td>\n",
       "      <td>4738864.5</td>\n",
       "      <td>845025.0</td>\n",
       "      <td>17.85</td>\n",
       "    </tr>\n",
       "    <tr>\n",
       "      <th>1</th>\n",
       "      <td>2000</td>\n",
       "      <td>AK</td>\n",
       "      <td>722359.5</td>\n",
       "      <td>73428.5</td>\n",
       "      <td>10.15</td>\n",
       "    </tr>\n",
       "    <tr>\n",
       "      <th>2</th>\n",
       "      <td>4000</td>\n",
       "      <td>AZ</td>\n",
       "      <td>6721407.0</td>\n",
       "      <td>1133099.5</td>\n",
       "      <td>16.90</td>\n",
       "    </tr>\n",
       "    <tr>\n",
       "      <th>3</th>\n",
       "      <td>5000</td>\n",
       "      <td>AR</td>\n",
       "      <td>2892994.5</td>\n",
       "      <td>519060.5</td>\n",
       "      <td>17.95</td>\n",
       "    </tr>\n",
       "    <tr>\n",
       "      <th>4</th>\n",
       "      <td>6000</td>\n",
       "      <td>CA</td>\n",
       "      <td>38455705.0</td>\n",
       "      <td>5711938.0</td>\n",
       "      <td>14.90</td>\n",
       "    </tr>\n",
       "  </tbody>\n",
       "</table>\n",
       "</div>"
      ],
      "text/plain": [
       "     ID Name  Poverty Universe Avg  Number in Poverty Avg  \\\n",
       "0  1000   AL             4738864.5               845025.0   \n",
       "1  2000   AK              722359.5                73428.5   \n",
       "2  4000   AZ             6721407.0              1133099.5   \n",
       "3  5000   AR             2892994.5               519060.5   \n",
       "4  6000   CA            38455705.0              5711938.0   \n",
       "\n",
       "   Percent in Poverty Avg  \n",
       "0                   17.85  \n",
       "1                   10.15  \n",
       "2                   16.90  \n",
       "3                   17.95  \n",
       "4                   14.90  "
      ]
     },
     "execution_count": 6,
     "metadata": {},
     "output_type": "execute_result"
    }
   ],
   "source": [
    "PovertyUS = pd.read_csv('../../datasets/PovertyUS_Avg_2015_2016.csv', encoding='utf-8')\n",
    "PovertyUS.head()"
   ]
  },
  {
   "cell_type": "code",
   "execution_count": 7,
   "metadata": {},
   "outputs": [
    {
     "data": {
      "text/html": [
       "<div>\n",
       "<style scoped>\n",
       "    .dataframe tbody tr th:only-of-type {\n",
       "        vertical-align: middle;\n",
       "    }\n",
       "\n",
       "    .dataframe tbody tr th {\n",
       "        vertical-align: top;\n",
       "    }\n",
       "\n",
       "    .dataframe thead th {\n",
       "        text-align: right;\n",
       "    }\n",
       "</style>\n",
       "<table border=\"1\" class=\"dataframe\">\n",
       "  <thead>\n",
       "    <tr style=\"text-align: right;\">\n",
       "      <th></th>\n",
       "      <th>state</th>\n",
       "      <th>Avg Deaths</th>\n",
       "      <th>Avg Deaths in percentage</th>\n",
       "      <th>ID</th>\n",
       "      <th>Name</th>\n",
       "      <th>Poverty Universe Avg</th>\n",
       "      <th>Number in Poverty Avg</th>\n",
       "      <th>Percent in Poverty Avg</th>\n",
       "    </tr>\n",
       "  </thead>\n",
       "  <tbody>\n",
       "    <tr>\n",
       "      <th>0</th>\n",
       "      <td>AK</td>\n",
       "      <td>5.5</td>\n",
       "      <td>0.565264</td>\n",
       "      <td>2000</td>\n",
       "      <td>AK</td>\n",
       "      <td>722359.5</td>\n",
       "      <td>73428.5</td>\n",
       "      <td>10.15</td>\n",
       "    </tr>\n",
       "    <tr>\n",
       "      <th>1</th>\n",
       "      <td>AL</td>\n",
       "      <td>21.0</td>\n",
       "      <td>2.155746</td>\n",
       "      <td>1000</td>\n",
       "      <td>AL</td>\n",
       "      <td>4738864.5</td>\n",
       "      <td>845025.0</td>\n",
       "      <td>17.85</td>\n",
       "    </tr>\n",
       "    <tr>\n",
       "      <th>2</th>\n",
       "      <td>AR</td>\n",
       "      <td>10.0</td>\n",
       "      <td>1.031087</td>\n",
       "      <td>5000</td>\n",
       "      <td>AR</td>\n",
       "      <td>2892994.5</td>\n",
       "      <td>519060.5</td>\n",
       "      <td>17.95</td>\n",
       "    </tr>\n",
       "    <tr>\n",
       "      <th>3</th>\n",
       "      <td>AZ</td>\n",
       "      <td>46.0</td>\n",
       "      <td>4.715126</td>\n",
       "      <td>4000</td>\n",
       "      <td>AZ</td>\n",
       "      <td>6721407.0</td>\n",
       "      <td>1133099.5</td>\n",
       "      <td>16.90</td>\n",
       "    </tr>\n",
       "    <tr>\n",
       "      <th>4</th>\n",
       "      <td>CA</td>\n",
       "      <td>163.5</td>\n",
       "      <td>16.700931</td>\n",
       "      <td>6000</td>\n",
       "      <td>CA</td>\n",
       "      <td>38455705.0</td>\n",
       "      <td>5711938.0</td>\n",
       "      <td>14.90</td>\n",
       "    </tr>\n",
       "  </tbody>\n",
       "</table>\n",
       "</div>"
      ],
      "text/plain": [
       "  state  Avg Deaths  Avg Deaths in percentage    ID Name  \\\n",
       "0    AK         5.5                  0.565264  2000   AK   \n",
       "1    AL        21.0                  2.155746  1000   AL   \n",
       "2    AR        10.0                  1.031087  5000   AR   \n",
       "3    AZ        46.0                  4.715126  4000   AZ   \n",
       "4    CA       163.5                 16.700931  6000   CA   \n",
       "\n",
       "   Poverty Universe Avg  Number in Poverty Avg  Percent in Poverty Avg  \n",
       "0              722359.5                73428.5                   10.15  \n",
       "1             4738864.5               845025.0                   17.85  \n",
       "2             2892994.5               519060.5                   17.95  \n",
       "3             6721407.0              1133099.5                   16.90  \n",
       "4            38455705.0              5711938.0                   14.90  "
      ]
     },
     "execution_count": 7,
     "metadata": {},
     "output_type": "execute_result"
    }
   ],
   "source": [
    "# [Step 2] Merge the datasets on 'state' and 'Name'\n",
    "Joined = pd.merge(PoliceKillingUS, PovertyUS, left_on='state', right_on='Name', how='outer')\n",
    "Joined.fillna(0, inplace=True)  # Replace missing values with 0\n",
    "Joined.loc[Joined['state'] == 0, 'state'] = Joined.loc[Joined['state'] == 0, 'Name']  # Replace missing state names\n",
    "Joined.to_csv('../Joined.csv', index=False)  # Save the joined dataset for reference\n",
    "Joined.head()"
   ]
  },
  {
   "cell_type": "code",
   "execution_count": 8,
   "metadata": {},
   "outputs": [
    {
     "data": {
      "text/html": [
       "<div>\n",
       "<style scoped>\n",
       "    .dataframe tbody tr th:only-of-type {\n",
       "        vertical-align: middle;\n",
       "    }\n",
       "\n",
       "    .dataframe tbody tr th {\n",
       "        vertical-align: top;\n",
       "    }\n",
       "\n",
       "    .dataframe thead th {\n",
       "        text-align: right;\n",
       "    }\n",
       "</style>\n",
       "<table border=\"1\" class=\"dataframe\">\n",
       "  <thead>\n",
       "    <tr style=\"text-align: right;\">\n",
       "      <th></th>\n",
       "      <th>state</th>\n",
       "      <th>Avg Deaths</th>\n",
       "      <th>Avg Deaths in percentage</th>\n",
       "      <th>ID</th>\n",
       "      <th>Name</th>\n",
       "      <th>Poverty Universe Avg</th>\n",
       "      <th>Number in Poverty Avg</th>\n",
       "      <th>Percent in Poverty Avg</th>\n",
       "      <th>Log Poverty</th>\n",
       "      <th>Log Killings</th>\n",
       "    </tr>\n",
       "  </thead>\n",
       "  <tbody>\n",
       "    <tr>\n",
       "      <th>0</th>\n",
       "      <td>AK</td>\n",
       "      <td>5.5</td>\n",
       "      <td>0.565264</td>\n",
       "      <td>2000</td>\n",
       "      <td>AK</td>\n",
       "      <td>722359.5</td>\n",
       "      <td>73428.5</td>\n",
       "      <td>10.15</td>\n",
       "      <td>10.15</td>\n",
       "      <td>0.565264</td>\n",
       "    </tr>\n",
       "    <tr>\n",
       "      <th>1</th>\n",
       "      <td>AL</td>\n",
       "      <td>21.0</td>\n",
       "      <td>2.155746</td>\n",
       "      <td>1000</td>\n",
       "      <td>AL</td>\n",
       "      <td>4738864.5</td>\n",
       "      <td>845025.0</td>\n",
       "      <td>17.85</td>\n",
       "      <td>17.85</td>\n",
       "      <td>2.155746</td>\n",
       "    </tr>\n",
       "    <tr>\n",
       "      <th>2</th>\n",
       "      <td>AR</td>\n",
       "      <td>10.0</td>\n",
       "      <td>1.031087</td>\n",
       "      <td>5000</td>\n",
       "      <td>AR</td>\n",
       "      <td>2892994.5</td>\n",
       "      <td>519060.5</td>\n",
       "      <td>17.95</td>\n",
       "      <td>17.95</td>\n",
       "      <td>1.031087</td>\n",
       "    </tr>\n",
       "    <tr>\n",
       "      <th>3</th>\n",
       "      <td>AZ</td>\n",
       "      <td>46.0</td>\n",
       "      <td>4.715126</td>\n",
       "      <td>4000</td>\n",
       "      <td>AZ</td>\n",
       "      <td>6721407.0</td>\n",
       "      <td>1133099.5</td>\n",
       "      <td>16.90</td>\n",
       "      <td>16.90</td>\n",
       "      <td>4.715126</td>\n",
       "    </tr>\n",
       "    <tr>\n",
       "      <th>4</th>\n",
       "      <td>CA</td>\n",
       "      <td>163.5</td>\n",
       "      <td>16.700931</td>\n",
       "      <td>6000</td>\n",
       "      <td>CA</td>\n",
       "      <td>38455705.0</td>\n",
       "      <td>5711938.0</td>\n",
       "      <td>14.90</td>\n",
       "      <td>14.90</td>\n",
       "      <td>16.700931</td>\n",
       "    </tr>\n",
       "  </tbody>\n",
       "</table>\n",
       "</div>"
      ],
      "text/plain": [
       "  state  Avg Deaths  Avg Deaths in percentage    ID Name  \\\n",
       "0    AK         5.5                  0.565264  2000   AK   \n",
       "1    AL        21.0                  2.155746  1000   AL   \n",
       "2    AR        10.0                  1.031087  5000   AR   \n",
       "3    AZ        46.0                  4.715126  4000   AZ   \n",
       "4    CA       163.5                 16.700931  6000   CA   \n",
       "\n",
       "   Poverty Universe Avg  Number in Poverty Avg  Percent in Poverty Avg  \\\n",
       "0              722359.5                73428.5                   10.15   \n",
       "1             4738864.5               845025.0                   17.85   \n",
       "2             2892994.5               519060.5                   17.95   \n",
       "3             6721407.0              1133099.5                   16.90   \n",
       "4            38455705.0              5711938.0                   14.90   \n",
       "\n",
       "   Log Poverty  Log Killings  \n",
       "0        10.15      0.565264  \n",
       "1        17.85      2.155746  \n",
       "2        17.95      1.031087  \n",
       "3        16.90      4.715126  \n",
       "4        14.90     16.700931  "
      ]
     },
     "execution_count": 8,
     "metadata": {},
     "output_type": "execute_result"
    }
   ],
   "source": [
    "Joined['Log Poverty'] = Joined['Percent in Poverty Avg'] # Ποσοστά σε φτώχια μέσος όρος 2015-2016\n",
    "Joined['Log Killings'] = Joined['Avg Deaths in percentage'] # Ποσοστά φόνων μέσος όρος 2015-20\n",
    "Joined.head()"
   ]
  },
  {
   "cell_type": "code",
   "execution_count": 9,
   "metadata": {},
   "outputs": [],
   "source": [
    "# [Step 4] Select the features for clustering\n",
    "X = Joined[['Log Poverty', 'Log Killings']]"
   ]
  },
  {
   "cell_type": "code",
   "execution_count": 10,
   "metadata": {},
   "outputs": [
    {
     "name": "stdout",
     "output_type": "stream",
     "text": [
      "[[-1.24170763e+00 -5.33929778e-01]\n",
      " [ 1.31260660e+00  7.45930353e-02]\n",
      " [ 1.34577952e+00 -3.55704777e-01]\n",
      " [ 9.97463938e-01  1.05381824e+00]\n",
      " [ 3.34005694e-01  5.63961905e+00]\n",
      " [-8.76805600e-01  4.25430281e-01]\n",
      " [-1.20853472e+00 -6.32132935e-01]\n",
      " [ 1.39553888e+00 -5.73660061e-01]\n",
      " [-5.61662934e-01 -6.72424494e-01]\n",
      " [ 4.66697343e-01  1.59993925e+00]\n",
      " [ 9.14531657e-01  3.26104573e-01]\n",
      " [-1.25829409e+00 -5.92402652e-01]\n",
      " [-6.61181671e-01 -5.54356195e-01]\n",
      " [ 1.18381765e-01 -4.95883321e-01]\n",
      " [-1.96760901e-01  1.71673642e-01]\n",
      " [ 1.01795309e-01 -1.05315791e-01]\n",
      " [-4.45557742e-01 -3.77815021e-01]\n",
      " [ 1.44529825e+00 -8.37668231e-02]\n",
      " [ 1.95947839e+00  1.48440848e-01]\n",
      " [-9.59737881e-01 -3.38084738e-01]\n",
      " [-1.35781283e+00 -1.62666115e-01]\n",
      " [-3.79211918e-01 -6.71863219e-01]\n",
      " [ 4.66697343e-01 -1.83092532e-01]\n",
      " [-1.27488055e+00 -2.40442855e-01]\n",
      " [ 1.68141133e-01  7.23479335e-02]\n",
      " [ 2.54000435e+00 -4.36849171e-01]\n",
      " [ 2.27657240e-03 -5.73660061e-01]\n",
      " [ 6.65734816e-01  3.49337367e-01]\n",
      " [-1.09242953e+00 -7.11032227e-01]\n",
      " [-7.10941039e-01 -4.56714312e-01]\n",
      " [-1.95492525e+00 -6.52559353e-01]\n",
      " [-1.09242953e+00 -2.22261540e-01]\n",
      " [ 1.84337320e+00  5.30440673e-02]\n",
      " [ 2.01314045e-01 -1.05315791e-01]\n",
      " [ 4.16937975e-01 -4.57203660e-02]\n",
      " [ 2.51073414e-01  3.26104573e-01]\n",
      " [ 7.15494184e-01  3.84016171e-01]\n",
      " [ 1.34968221e-01 -1.62666115e-01]\n",
      " [-2.96279637e-01  3.43014764e-02]\n",
      " [-6.40692519e-02 -7.10470951e-01]\n",
      " [ 7.15494184e-01 -4.57203660e-02]\n",
      " [-2.29933813e-01 -6.12829069e-01]\n",
      " [ 7.81840008e-01  7.29092090e-02]\n",
      " [ 6.15975448e-01  2.77051928e+00]\n",
      " [-1.05925662e+00 -3.98241438e-01]\n",
      " [-9.26564968e-01 -6.50242323e-02]\n",
      " [-1.00949725e+00 -6.91167085e-01]\n",
      " [-7.10941039e-01  7.51543108e-02]\n",
      " [-6.44595215e-01 -2.00151296e-01]\n",
      " [ 1.34577952e+00 -3.18780871e-01]\n",
      " [-1.04267016e+00 -5.94647754e-01]]\n"
     ]
    }
   ],
   "source": [
    "# [Step 5] Normalize the data using z-score normalization\n",
    "xV1 = zscore(X.iloc[:, 0])\n",
    "xV2 = zscore(X.iloc[:, 1])\n",
    "X = np.transpose(np.array([xV1, xV2]))\n",
    "print(X)"
   ]
  },
  {
   "cell_type": "code",
   "execution_count": 11,
   "metadata": {},
   "outputs": [
    {
     "name": "stdout",
     "output_type": "stream",
     "text": [
      "Number of clusters: 3\n"
     ]
    }
   ],
   "source": [
    "# [Step 6] Determine the number of clusters\n",
    "numberOfRows, numberOfColumns = X.shape\n",
    "k = int(input(f\"Enter the number of clusters for K-means (from 2 to {numberOfRows}): \"))\n",
    "print(f\"Number of clusters: {k}\")"
   ]
  },
  {
   "cell_type": "code",
   "execution_count": 12,
   "metadata": {},
   "outputs": [
    {
     "name": "stdout",
     "output_type": "stream",
     "text": [
      "[0 1 1 1 2 0 0 1 0 1 1 0 0 0 0 1 0 1 1 0 0 0 1 0 1 1 0 1 0 0 0 0 1 1 1 1 1\n",
      " 1 0 0 1 0 1 2 0 0 0 0 0 1 0]\n"
     ]
    }
   ],
   "source": [
    "# [Step 7] Apply K-Means clustering\n",
    "kmeans = KMeans(n_clusters=k, n_init=10, random_state=42).fit(X)\n",
    "IDX = kmeans.labels_  # Get the labels of each cluster\n",
    "print(IDX)"
   ]
  },
  {
   "cell_type": "code",
   "execution_count": 13,
   "metadata": {},
   "outputs": [
    {
     "name": "stdout",
     "output_type": "stream",
     "text": [
      "[[-0.78281568 -0.38719263]\n",
      " [ 0.91754738  0.09291194]\n",
      " [ 0.47499057  4.20506917]]\n"
     ]
    }
   ],
   "source": [
    "C = kmeans.cluster_centers_  # Get the cluster centers\n",
    "print(C)"
   ]
  },
  {
   "cell_type": "code",
   "execution_count": 14,
   "metadata": {},
   "outputs": [
    {
     "data": {
      "image/png": "[encoded data removed]",
      "text/plain": [
       "<Figure size 640x480 with 1 Axes>"
      ]
     },
     "metadata": {},
     "output_type": "display_data"
    }
   ],
   "source": [
    "# [Step 8] Plotting the data points and clusters\n",
    "plt.figure(1)\n",
    "plt.scatter(X[:, 0], X[:, 1])  # Plot all data without clustering\n",
    "plt.title(\"Clustering Data\")\n",
    "plt.show()"
   ]
  },
  {
   "cell_type": "code",
   "execution_count": 15,
   "metadata": {},
   "outputs": [
    {
     "data": {
      "image/png": "[encoded data removed]",
      "text/plain": [
       "<Figure size 640x480 with 1 Axes>"
      ]
     },
     "metadata": {},
     "output_type": "display_data"
    }
   ],
   "source": [
    "# [Step 9] Plot each cluster with different colors\n",
    "colors = ['limegreen', 'yellow', 'c', 'purple']\n",
    "for i in range(k):\n",
    "    plt.scatter(X[IDX == i, 0], X[IDX == i, 1], label=f'C{i+1}', alpha=0.6)\n",
    "\n",
    "# [Step 10] Plot the centroids\n",
    "plt.scatter(C[:, 0], C[:, 1], marker='x', color='black', s=150, linewidth=3, label=\"Centroids\", zorder=10)\n",
    "plt.legend()\n",
    "plt.show()"
   ]
  },
  {
   "cell_type": "code",
   "execution_count": 16,
   "metadata": {},
   "outputs": [],
   "source": [
    "\"\"\"\n",
    "    Draw the SSE Plot\n",
    "\"\"\"\n",
    "def plot_sse(max_clusters=10):\n",
    "    # [Step 12.1] Calculate the SSE for different numbers of clusters\n",
    "        sse = []\n",
    "        for k in range(1, max_clusters + 1):\n",
    "            kmeans = KMeans(n_clusters=k, n_init=10, random_state=42)\n",
    "            kmeans.fit(X)\n",
    "            sse.append(kmeans.inertia_)\n",
    "\n",
    "        # [Step 12.2] Plot SSE vs. number of clusters to determine the optimal number of clusters (elbow method)\n",
    "        plt.figure(figsize=(8, 6))\n",
    "        plt.plot(range(1, max_clusters + 1), sse, marker='o')\n",
    "        plt.xlabel('Number of Clusters')\n",
    "        plt.ylabel('Sum of Squared Errors (SSE)')\n",
    "        plt.title('Elbow Method For Optimal k')\n",
    "        plt.show()"
   ]
  },
  {
   "cell_type": "code",
   "execution_count": 17,
   "metadata": {},
   "outputs": [
    {
     "data": {
      "image/png": "[encoded data removed]",
      "text/plain": [
       "<Figure size 800x600 with 1 Axes>"
      ]
     },
     "metadata": {},
     "output_type": "display_data"
    }
   ],
   "source": [
    "# [Step 12] Draw the SSE Plot\n",
    "plot_sse(max_clusters=10)"
   ]
  },
  {
   "cell_type": "code",
   "execution_count": 18,
   "metadata": {},
   "outputs": [
    {
     "name": "stdout",
     "output_type": "stream",
     "text": [
      "\n",
      "\n",
      "SSE (Sum of Squared Errors) = 26.879\n",
      "Silhouette Coefficient: 0.501\n"
     ]
    }
   ],
   "source": [
    "# [Step 11] Print clustering metrics\n",
    "print(\"\\n\\nSSE (Sum of Squared Errors) = %.3f\" % kmeans.inertia_)\n",
    "print(\"Silhouette Coefficient: %0.3f\" % metrics.silhouette_score(X, IDX))"
   ]
  }
 ],
 "metadata": {
  "kernelspec": {
   "display_name": "Python 3",
   "language": "python",
   "name": "python3"
  },
  "language_info": {
   "codemirror_mode": {
    "name": "ipython",
    "version": 3
   },
   "file_extension": ".py",
   "mimetype": "text/x-python",
   "name": "python",
   "nbconvert_exporter": "python",
   "pygments_lexer": "ipython3",
   "version": "3.12.4"
  }
 },
 "nbformat": 4,
 "nbformat_minor": 2
}
